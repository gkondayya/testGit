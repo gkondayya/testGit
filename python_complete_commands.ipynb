{
  "nbformat": 4,
  "nbformat_minor": 0,
  "metadata": {
    "colab": {
      "name": "python_complete_commands.ipynb",
      "provenance": [],
      "authorship_tag": "ABX9TyOk8RdCKiBWv4G0jBLAhjTo",
      "include_colab_link": true
    },
    "kernelspec": {
      "name": "python3",
      "display_name": "Python 3"
    },
    "language_info": {
      "name": "python"
    }
  },
  "cells": [
    {
      "cell_type": "markdown",
      "metadata": {
        "id": "view-in-github",
        "colab_type": "text"
      },
      "source": [
        "<a href=\"https://colab.research.google.com/github/gkondayya/testGit/blob/master/python_complete_commands.ipynb\" target=\"_parent\"><img src=\"https://colab.research.google.com/assets/colab-badge.svg\" alt=\"Open In Colab\"/></a>"
      ]
    },
    {
      "cell_type": "markdown",
      "metadata": {
        "id": "m7fdOwe23ANf"
      },
      "source": [
        "**This program contains important syntax and usage of Python languae features**"
      ]
    },
    {
      "cell_type": "code",
      "metadata": {
        "colab": {
          "base_uri": "https://localhost:8080/"
        },
        "id": "8hWkmruI1qpK",
        "outputId": "b4235a26-80ba-4508-aa4e-6da7ddcb27dd"
      },
      "source": [
        "print(\"Hellow world\")"
      ],
      "execution_count": 1,
      "outputs": [
        {
          "output_type": "stream",
          "text": [
            "Hellow world\n"
          ],
          "name": "stdout"
        }
      ]
    },
    {
      "cell_type": "markdown",
      "metadata": {
        "id": "Bs_tikVi4Dt6"
      },
      "source": [
        "**Variables**"
      ]
    },
    {
      "cell_type": "code",
      "metadata": {
        "colab": {
          "base_uri": "https://localhost:8080/"
        },
        "id": "BP5XhJcE12WA",
        "outputId": "8cafe796-4abf-4e70-b9cf-60f8d19b766f"
      },
      "source": [
        "myint =1\n",
        "myfloat = 2.0\n",
        "mystring = 'kondayya'\n",
        "fullname = mystring + \" \" + \"gundra\"\n",
        "print(fullname)\n",
        "whatamI = myfloat+myint\n",
        "print(type(whatamI))\n",
        "isinstance(myint,int)  # = True/False: used to check whether variable 'myint' is of type 'int' or not"
      ],
      "execution_count": 8,
      "outputs": [
        {
          "output_type": "stream",
          "text": [
            "kondayya gundra\n",
            "<class 'float'>\n"
          ],
          "name": "stdout"
        },
        {
          "output_type": "execute_result",
          "data": {
            "text/plain": [
              "True"
            ]
          },
          "metadata": {
            "tags": []
          },
          "execution_count": 8
        }
      ]
    },
    {
      "cell_type": "markdown",
      "metadata": {
        "id": "MkyvKKJ052QT"
      },
      "source": [
        "**Lists**"
      ]
    },
    {
      "cell_type": "code",
      "metadata": {
        "colab": {
          "base_uri": "https://localhost:8080/"
        },
        "id": "vDg1lKFZ2rmi",
        "outputId": "484a4bc3-662d-4d67-e050-62020f407b3a"
      },
      "source": [
        "intlist = [1,2,3]\n",
        "print('intlist', intlist)\n",
        "stringlist = ['Kondayya', 'Devi', 'Bhavana', 'Sanju']\n",
        "floatlist =[]\n",
        "floatlist.append(1.0)\n",
        "floatlist.append(2.0)\n",
        "floatlist.append(3.0)\n",
        "print('floatlist', floatlist)\n",
        "mixedlist = [1,2.0,'kondayya']\n",
        "print(\"mixedlist\", mixedlist)"
      ],
      "execution_count": 39,
      "outputs": [
        {
          "output_type": "stream",
          "text": [
            "intlist [1, 2, 3]\n",
            "floatlist [1.0, 2.0, 3.0]\n",
            "mixedlist [1, 2.0, 'kondayya']\n"
          ],
          "name": "stdout"
        }
      ]
    },
    {
      "cell_type": "markdown",
      "metadata": {
        "id": "INQzw1S34IWH"
      },
      "source": [
        ""
      ]
    },
    {
      "cell_type": "markdown",
      "metadata": {
        "id": "YNWRPoZQ6zDJ"
      },
      "source": [
        "List operations"
      ]
    },
    {
      "cell_type": "code",
      "metadata": {
        "colab": {
          "base_uri": "https://localhost:8080/"
        },
        "id": "V8Bytwl14Hze",
        "outputId": "21311ee0-1f49-43bd-830d-c992b308f10c"
      },
      "source": [
        "\n",
        "joinedlist = intlist + stringlist\n",
        "print(\"joinedlist\", joinedlist)\n",
        "\n",
        "mylist = []\n",
        "mylist.append(1)\n",
        "mylist.append(5.0)\n",
        "mylist.append(\"Kondayya\")\n",
        "print('Mylist', mylist)"
      ],
      "execution_count": 40,
      "outputs": [
        {
          "output_type": "stream",
          "text": [
            "[1, 2, 3, 1, 2, 3]\n",
            "joinedlist [1, 2, 3, 'kondayya', 'Devi', 'Bhavana', 'Sanju']\n",
            "Mylist [1, 5.0, 'Kondayya']\n"
          ],
          "name": "stdout"
        }
      ]
    },
    {
      "cell_type": "code",
      "metadata": {
        "colab": {
          "base_uri": "https://localhost:8080/"
        },
        "id": "DLMJVxej7Fiu",
        "outputId": "165a47ce-fb38-4db0-cde3-cec13f6d624a"
      },
      "source": [
        "intlist2 = 2*intlist # intlist repeated twice\n",
        "print('2*intlist', intlist2)"
      ],
      "execution_count": 22,
      "outputs": [
        {
          "output_type": "stream",
          "text": [
            "2*intlist [1, 2, 3, 1, 2, 3]\n"
          ],
          "name": "stdout"
        }
      ]
    },
    {
      "cell_type": "code",
      "metadata": {
        "colab": {
          "base_uri": "https://localhost:8080/"
        },
        "id": "c3r88N7A7v3C",
        "outputId": "03902e37-69d8-4fbe-c59a-e747ee444a9a"
      },
      "source": [
        "del intlist2[1] # 1st element of the list is deleted (IMP: list starts with 0th element)\n",
        "intlist2"
      ],
      "execution_count": 24,
      "outputs": [
        {
          "output_type": "execute_result",
          "data": {
            "text/plain": [
              "[1, 3, 1, 2, 3]"
            ]
          },
          "metadata": {
            "tags": []
          },
          "execution_count": 24
        }
      ]
    },
    {
      "cell_type": "code",
      "metadata": {
        "colab": {
          "base_uri": "https://localhost:8080/"
        },
        "id": "jfV2pLvA9Iks",
        "outputId": "8f46fe06-07b2-4c69-8611-8c2127bd17d7"
      },
      "source": [
        "intlist2[0:] # print from 0th element till the last one (entire list)"
      ],
      "execution_count": 33,
      "outputs": [
        {
          "output_type": "execute_result",
          "data": {
            "text/plain": [
              "[1, 3, 1, 2, 3]"
            ]
          },
          "metadata": {
            "tags": []
          },
          "execution_count": 33
        }
      ]
    },
    {
      "cell_type": "code",
      "metadata": {
        "colab": {
          "base_uri": "https://localhost:8080/"
        },
        "id": "h3ty0xYn9eKe",
        "outputId": "de04dcb1-43a1-424b-aa82-6ca84d89b30b"
      },
      "source": [
        "intlist2[1:3] # print from 1st to 2nd element"
      ],
      "execution_count": 29,
      "outputs": [
        {
          "output_type": "execute_result",
          "data": {
            "text/plain": [
              "[3, 1]"
            ]
          },
          "metadata": {
            "tags": []
          },
          "execution_count": 29
        }
      ]
    },
    {
      "cell_type": "code",
      "metadata": {
        "colab": {
          "base_uri": "https://localhost:8080/"
        },
        "id": "ZkwTMPGz906S",
        "outputId": "7ec8a40d-e142-46fa-dae8-f2995f64bb2b"
      },
      "source": [
        "intlist2[:2] # print first 2 elements"
      ],
      "execution_count": 34,
      "outputs": [
        {
          "output_type": "execute_result",
          "data": {
            "text/plain": [
              "[1, 3]"
            ]
          },
          "metadata": {
            "tags": []
          },
          "execution_count": 34
        }
      ]
    },
    {
      "cell_type": "code",
      "metadata": {
        "colab": {
          "base_uri": "https://localhost:8080/"
        },
        "id": "8t3urtaU9-Ea",
        "outputId": "9907b9ab-cb15-4c4f-b907-8f2f9c44d7c9"
      },
      "source": [
        "intlist2[-1] # last element in the list"
      ],
      "execution_count": 35,
      "outputs": [
        {
          "output_type": "execute_result",
          "data": {
            "text/plain": [
              "3"
            ]
          },
          "metadata": {
            "tags": []
          },
          "execution_count": 35
        }
      ]
    },
    {
      "cell_type": "code",
      "metadata": {
        "colab": {
          "base_uri": "https://localhost:8080/"
        },
        "id": "V4YS5zhH_iaF",
        "outputId": "9c21dd31-4c2b-4ae0-acf9-c0a547723913"
      },
      "source": [
        "intlist2[-2] # last but one"
      ],
      "execution_count": 36,
      "outputs": [
        {
          "output_type": "execute_result",
          "data": {
            "text/plain": [
              "2"
            ]
          },
          "metadata": {
            "tags": []
          },
          "execution_count": 36
        }
      ]
    },
    {
      "cell_type": "code",
      "metadata": {
        "colab": {
          "base_uri": "https://localhost:8080/"
        },
        "id": "OnqQlR6X_rFH",
        "outputId": "7725a914-0c71-4a2f-c41f-8c9be1553722"
      },
      "source": [
        "x =  object() # An object of empty class\n",
        "y = object()\n",
        "x_list = [x]*10 # List of empty objects\n",
        "x_list.count(x)"
      ],
      "execution_count": 52,
      "outputs": [
        {
          "output_type": "stream",
          "text": [
            "<class 'object'>\n"
          ],
          "name": "stdout"
        },
        {
          "output_type": "execute_result",
          "data": {
            "text/plain": [
              "10"
            ]
          },
          "metadata": {
            "tags": []
          },
          "execution_count": 52
        }
      ]
    },
    {
      "cell_type": "markdown",
      "metadata": {
        "id": "irVlh1kYQ2z-"
      },
      "source": [
        "**Basic operations**"
      ]
    },
    {
      "cell_type": "code",
      "metadata": {
        "colab": {
          "base_uri": "https://localhost:8080/"
        },
        "id": "4bm072cuCaib",
        "outputId": "258d9b6e-be8b-4af2-daab-c70507ed4c2d"
      },
      "source": [
        "# +,-,*,/ Usual meaning\n",
        "#** (exponential, 3**2 = 9, 2**3 = 8 etc)\n",
        "# % (reminder of division, eg., 9%2 = 1)\n",
        "# // (floor division. eg., 9//2 = 4, -5/2 = 3, both cases rounded off towards -infinity )\n"
      ],
      "execution_count": 55,
      "outputs": [
        {
          "output_type": "execute_result",
          "data": {
            "text/plain": [
              "-3"
            ]
          },
          "metadata": {
            "tags": []
          },
          "execution_count": 55
        }
      ]
    },
    {
      "cell_type": "markdown",
      "metadata": {
        "id": "wgIhVYRMTUK8"
      },
      "source": [
        "**String formating**"
      ]
    },
    {
      "cell_type": "code",
      "metadata": {
        "colab": {
          "base_uri": "https://localhost:8080/"
        },
        "id": "a6PObgiPSt3o",
        "outputId": "3cb3808a-2359-4a4b-86ba-d23bddf1a971"
      },
      "source": [
        "myname = \"Kondyya Gundra\"\n",
        "print(\"My name is %s\" %myname)"
      ],
      "execution_count": 59,
      "outputs": [
        {
          "output_type": "stream",
          "text": [
            "My name is Kondyya Gundra\n"
          ],
          "name": "stdout"
        }
      ]
    },
    {
      "cell_type": "code",
      "metadata": {
        "colab": {
          "base_uri": "https://localhost:8080/"
        },
        "id": "LDxbn1V7TnWd",
        "outputId": "1696aa3e-63a3-48dc-ba62-fbb6536ffe16"
      },
      "source": [
        "myage = 45\n",
        "print(\"My name is %s, my age is %d\" %(myname,myage))"
      ],
      "execution_count": 60,
      "outputs": [
        {
          "output_type": "stream",
          "text": [
            "My name is Kondyya Gundra, my age is 45\n"
          ],
          "name": "stdout"
        }
      ]
    },
    {
      "cell_type": "code",
      "metadata": {
        "colab": {
          "base_uri": "https://localhost:8080/"
        },
        "id": "ze_WuxJTUJVW",
        "outputId": "c6ac5331-539d-41ee-9ddc-2d9453e87d8b"
      },
      "source": [
        "data = (\"Kondayya\", \"Gundra\", 1942)\n",
        "format_string = \"Hello %s %s. Your current balance is Rs.%.2f.\"\n",
        "\n",
        "print(format_string % data) # Ref. https://www.learnpython.org/en/String_Formatting\n",
        "\n",
        "\n",
        "\n",
        "## %s - String (or any object with a string representation, like numbers)\n",
        "## %d - Integers\n",
        "## %f - Floating point numbers\n",
        "## %.<number of digits>f - Floating point numbers with a fixed amount of digits to the right of the dot.\n",
        "##%x/%X - Integers in hex representation (lowercase/uppercase) \n",
        "\n",
        "# Scientific format (exponential format)\n",
        "x = 100200000000.000\n",
        "print(\"x=%.3e\" %x)"
      ],
      "execution_count": 74,
      "outputs": [
        {
          "output_type": "stream",
          "text": [
            "Hello Kondayya Gundra. Your current balance is Rs.1942.00.\n",
            "x=1.002e+11\n"
          ],
          "name": "stdout"
        }
      ]
    },
    {
      "cell_type": "code",
      "metadata": {
        "id": "0lZNlQ3fVBOx"
      },
      "source": [
        ""
      ],
      "execution_count": null,
      "outputs": []
    }
  ]
}