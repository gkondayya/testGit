{
  "nbformat": 4,
  "nbformat_minor": 0,
  "metadata": {
    "colab": {
      "name": "Tec_w_Tim_1.ipynb",
      "provenance": [],
      "collapsed_sections": [],
      "authorship_tag": "ABX9TyMijKmq4cpTEmVG0tz5hjW+",
      "include_colab_link": true
    },
    "kernelspec": {
      "name": "python3",
      "display_name": "Python 3"
    }
  },
  "cells": [
    {
      "cell_type": "markdown",
      "metadata": {
        "id": "view-in-github",
        "colab_type": "text"
      },
      "source": [
        "<a href=\"https://colab.research.google.com/github/gkondayya/testGit/blob/master/Tec_w_Tim_1.ipynb\" target=\"_parent\"><img src=\"https://colab.research.google.com/assets/colab-badge.svg\" alt=\"Open In Colab\"/></a>"
      ]
    },
    {
      "cell_type": "code",
      "metadata": {
        "id": "ePFgJWn_9J6D",
        "outputId": "6ea90330-ef31-43dc-d17e-a83ee3ddf05b",
        "colab": {
          "base_uri": "https://localhost:8080/",
          "height": 124
        }
      },
      "source": [
        "# First note book based on 7 hour tutorial on TF by Tech with Tim\n",
        "%tensorflow_version 2.x # no longer rquired !!\n",
        "import tensorflow as tf\n",
        "print(tf.version)"
      ],
      "execution_count": 42,
      "outputs": [
        {
          "output_type": "stream",
          "text": [
            "`%tensorflow_version` only switches the major version: 1.x or 2.x.\n",
            "You set: `2.x # no longer rquired !!`. This will be interpreted as: `2.x`.\n",
            "\n",
            "\n",
            "TensorFlow is already loaded. Please restart the runtime to change versions.\n",
            "<module 'tensorflow._api.v2.version' from '/usr/local/lib/python3.6/dist-packages/tensorflow/_api/v2/version/__init__.py'>\n"
          ],
          "name": "stdout"
        }
      ]
    },
    {
      "cell_type": "markdown",
      "metadata": {
        "id": "8RvaI7hkJf9m"
      },
      "source": [
        "# Rank and shape of Tensors"
      ]
    },
    {
      "cell_type": "code",
      "metadata": {
        "id": "xcOmLIX3-r8b",
        "outputId": "74cab1df-3ac9-4b33-924e-ceec51aed87d",
        "colab": {
          "base_uri": "https://localhost:8080/",
          "height": 249
        }
      },
      "source": [
        "# Scalars\n",
        "string  = tf.Variable(\"this is string\",tf.string)\n",
        "floatnumber = tf.Variable(3.0,tf.float32) \n",
        "integer = tf.Variable(3,tf.int16)\n",
        "# Scalars are tensors of rank 0\n",
        "print(tf.rank(integer))\n",
        "\n",
        "\n",
        "# Tensor of rank 1 (1D arrays or vectors) [ 1,2,3 ]\n",
        "tensor_of_rank_1 = tf.Variable([3,4,5],tf.int16)\n",
        "print(tf.rank(tensor_of_rank_2))\n",
        "print(tensor_of_rank_2.shape)\n",
        "\n",
        "# Tensor of rank 2 (2D Matrices) [ [1,2,3], [3,4,5] ]\n",
        "\n",
        "tensor_of_rank_2 = tf.Variable([[3,5]],tf.int16)\n",
        "print(tf.rank(tensor_of_rank_2))\n",
        "print(tensor_of_rank_2.shape)\n",
        "\n",
        "# Layers of 2D matrices\n",
        "# Tensors of rank 3 (3D Matrices) [  [[1,2,3], [4,5,6]], [[7,8,9], [1,4,5]]   ]\n",
        "                                    # matrix in layer1    # matrix in layer 2             \n",
        "\n",
        "threeD111 = tf.Variable([  [[1]]  ],tf.int16)\n",
        "print(threeD111.shape)\n",
        "print(tf.rank(threeD111))\n",
        "\n",
        "threeD112 = tf.Variable([  [[1,2]]  ],tf.int16)\n",
        "print(threeD112.shape)\n",
        "\n",
        "threeD113 = tf.Variable([  [[1,2,3]]  ],tf.int16)\n",
        "print(threeD113.shape)\n",
        "\n",
        "threeD123 = tf.Variable([  [[1,2,3],[4,5,6]]  ],tf.int16)\n",
        "print(threeD123.shape)\n",
        "\n",
        "threeD133 = tf.Variable([  [ [1,2,3],[4,5,6],[7,8,9] ]  ],tf.int16)\n",
        "print(threeD133.shape)\n",
        "\n",
        "\n",
        "threeD233 = tf.Variable([  [ [1,2,3],[4,5,6],[7,8,9] ],  [ [1,2,3],[4,5,6],[7,8,9] ]  ],tf.int16)\n",
        "print(threeD233.shape)\n",
        "\n",
        "threeD333 = tf.Variable([   [[1,2,3],[4,5,6],[7,8,9]],  [[1,2,3],[4,5,6],[7,8,9]], [[1,2,3],[4,5,6],[7,8,9]]  ],tf.int16)\n",
        "print(threeD333.shape)\n",
        "\n"
      ],
      "execution_count": 43,
      "outputs": [
        {
          "output_type": "stream",
          "text": [
            "tf.Tensor(0, shape=(), dtype=int32)\n",
            "tf.Tensor(2, shape=(), dtype=int32)\n",
            "(1, 2)\n",
            "tf.Tensor(2, shape=(), dtype=int32)\n",
            "(1, 2)\n",
            "(1, 1, 1)\n",
            "tf.Tensor(3, shape=(), dtype=int32)\n",
            "(1, 1, 2)\n",
            "(1, 1, 3)\n",
            "(1, 2, 3)\n",
            "(1, 3, 3)\n",
            "(2, 3, 3)\n",
            "(3, 3, 3)\n"
          ],
          "name": "stdout"
        }
      ]
    },
    {
      "cell_type": "markdown",
      "metadata": {
        "id": "4khURZcQLyFA"
      },
      "source": [
        "# Reshape function"
      ]
    },
    {
      "cell_type": "code",
      "metadata": {
        "id": "JJubMipG9uFO",
        "outputId": "28bd6b29-87bc-43ff-e5fa-9c8dd31e54be",
        "colab": {
          "base_uri": "https://localhost:8080/",
          "height": 178
        }
      },
      "source": [
        "threeD321 = tf.reshape(threeD123, [3,2,1])\n",
        "print(threeD321)"
      ],
      "execution_count": 44,
      "outputs": [
        {
          "output_type": "stream",
          "text": [
            "tf.Tensor(\n",
            "[[[1]\n",
            "  [2]]\n",
            "\n",
            " [[3]\n",
            "  [4]]\n",
            "\n",
            " [[5]\n",
            "  [6]]], shape=(3, 2, 1), dtype=int32)\n"
          ],
          "name": "stdout"
        }
      ]
    },
    {
      "cell_type": "code",
      "metadata": {
        "id": "i5_e1ZNIM0mJ",
        "outputId": "3da06bb7-1ca3-401e-e930-807010493d60",
        "colab": {
          "base_uri": "https://localhost:8080/",
          "height": 178
        }
      },
      "source": [
        "# Effect of the Above operation is same as following declaration  \n",
        "threeD321 = tf.Variable([  [[1],[2]], [[3],[4]], [[5],[6]]  ],tf.int16)\n",
        "print(threeD321)"
      ],
      "execution_count": 45,
      "outputs": [
        {
          "output_type": "stream",
          "text": [
            "<tf.Variable 'Variable:0' shape=(3, 2, 1) dtype=int32, numpy=\n",
            "array([[[1],\n",
            "        [2]],\n",
            "\n",
            "       [[3],\n",
            "        [4]],\n",
            "\n",
            "       [[5],\n",
            "        [6]]], dtype=int32)>\n"
          ],
          "name": "stdout"
        }
      ]
    },
    {
      "cell_type": "code",
      "metadata": {
        "id": "ciif1mIcJe5k",
        "outputId": "be1984d9-2b98-4c61-86e6-1e73f779f788",
        "colab": {
          "base_uri": "https://localhost:8080/",
          "height": 160
        }
      },
      "source": [
        "# Reshape with -1 to reduce dimension\n",
        "\n",
        "threeD321_to_32 = tf.reshape(threeD123, [3,-1])\n",
        "print(threeD321_to_32)\n",
        "\n",
        "# Another example\n",
        "threeD333_to_2Dmatrix = tf.reshape(threeD333, [3,-1])\n",
        "print(threeD333_to_2Dmatrix)\n"
      ],
      "execution_count": 46,
      "outputs": [
        {
          "output_type": "stream",
          "text": [
            "tf.Tensor(\n",
            "[[1 2]\n",
            " [3 4]\n",
            " [5 6]], shape=(3, 2), dtype=int32)\n",
            "tf.Tensor(\n",
            "[[1 2 3 4 5 6 7 8 9]\n",
            " [1 2 3 4 5 6 7 8 9]\n",
            " [1 2 3 4 5 6 7 8 9]], shape=(3, 9), dtype=int32)\n"
          ],
          "name": "stdout"
        }
      ]
    },
    {
      "cell_type": "markdown",
      "metadata": {
        "id": "8JVjp-XjSMHv"
      },
      "source": [
        "# Evaluating Tensors"
      ]
    },
    {
      "cell_type": "code",
      "metadata": {
        "id": "7GPF9x0iOpze",
        "outputId": "55b418cc-3324-4149-c3b2-4ed4607129d8",
        "colab": {
          "base_uri": "https://localhost:8080/",
          "height": 189
        }
      },
      "source": [
        "with tf.Session() as sess:\n",
        "  threeD321.eval()"
      ],
      "execution_count": 47,
      "outputs": [
        {
          "output_type": "error",
          "ename": "AttributeError",
          "evalue": "ignored",
          "traceback": [
            "\u001b[0;31m---------------------------------------------------------------------------\u001b[0m",
            "\u001b[0;31mAttributeError\u001b[0m                            Traceback (most recent call last)",
            "\u001b[0;32m<ipython-input-47-87778c7a02af>\u001b[0m in \u001b[0;36m<module>\u001b[0;34m()\u001b[0m\n\u001b[0;32m----> 1\u001b[0;31m \u001b[0;32mwith\u001b[0m \u001b[0mtf\u001b[0m\u001b[0;34m.\u001b[0m\u001b[0mSession\u001b[0m\u001b[0;34m(\u001b[0m\u001b[0;34m)\u001b[0m \u001b[0;32mas\u001b[0m \u001b[0msess\u001b[0m\u001b[0;34m:\u001b[0m\u001b[0;34m\u001b[0m\u001b[0;34m\u001b[0m\u001b[0m\n\u001b[0m\u001b[1;32m      2\u001b[0m   \u001b[0mthreeD321\u001b[0m\u001b[0;34m.\u001b[0m\u001b[0meval\u001b[0m\u001b[0;34m(\u001b[0m\u001b[0;34m)\u001b[0m\u001b[0;34m\u001b[0m\u001b[0;34m\u001b[0m\u001b[0m\n",
            "\u001b[0;31mAttributeError\u001b[0m: module 'tensorflow' has no attribute 'Session'"
          ]
        }
      ]
    },
    {
      "cell_type": "code",
      "metadata": {
        "id": "aoajPT23SZK5"
      },
      "source": [
        ""
      ],
      "execution_count": null,
      "outputs": []
    }
  ]
}